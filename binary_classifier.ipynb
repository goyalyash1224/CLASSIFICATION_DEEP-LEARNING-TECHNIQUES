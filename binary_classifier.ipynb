{
 "cells": [
  {
   "cell_type": "code",
   "execution_count": 1,
   "metadata": {},
   "outputs": [
    {
     "name": "stderr",
     "output_type": "stream",
     "text": [
      "Using TensorFlow backend.\n"
     ]
    },
    {
     "name": "stdout",
     "output_type": "stream",
     "text": [
      "Found 8000 images belonging to 2 classes.\n",
      "Found 2000 images belonging to 2 classes.\n",
      "Epoch 1/25\n",
      "8000/8000 [==============================] - 4423s 553ms/step - loss: 0.3408 - acc: 0.8423 - val_loss: 0.6812 - val_acc: 0.7854\n",
      "Epoch 2/25\n",
      "8000/8000 [==============================] - 4411s 551ms/step - loss: 0.0922 - acc: 0.9657 - val_loss: 0.9942 - val_acc: 0.7997\n",
      "Epoch 3/25\n",
      "8000/8000 [==============================] - 4395s 549ms/step - loss: 0.0502 - acc: 0.9824 - val_loss: 1.0669 - val_acc: 0.8054\n",
      "Epoch 4/25\n",
      "8000/8000 [==============================] - 4311s 539ms/step - loss: 0.0360 - acc: 0.9876 - val_loss: 1.2191 - val_acc: 0.7994\n",
      "Epoch 5/25\n",
      "8000/8000 [==============================] - 4372s 547ms/step - loss: 0.0292 - acc: 0.9901 - val_loss: 1.3140 - val_acc: 0.7956\n",
      "Epoch 6/25\n",
      "8000/8000 [==============================] - 5697s 712ms/step - loss: 0.0242 - acc: 0.9920 - val_loss: 1.3466 - val_acc: 0.8051\n",
      "Epoch 7/25\n",
      "8000/8000 [==============================] - 4449s 556ms/step - loss: 0.0213 - acc: 0.9929 - val_loss: 1.4231 - val_acc: 0.8016\n",
      "Epoch 8/25\n",
      "8000/8000 [==============================] - 4310s 539ms/step - loss: 0.0194 - acc: 0.9937 - val_loss: 1.5206 - val_acc: 0.7881\n",
      "Epoch 9/25\n",
      "8000/8000 [==============================] - 4305s 538ms/step - loss: 0.0168 - acc: 0.9946 - val_loss: 1.7323 - val_acc: 0.7825\n",
      "Epoch 10/25\n",
      "8000/8000 [==============================] - 4323s 540ms/step - loss: 0.0154 - acc: 0.9949 - val_loss: 1.6331 - val_acc: 0.7947\n",
      "Epoch 11/25\n",
      "8000/8000 [==============================] - 4324s 541ms/step - loss: 0.0139 - acc: 0.9954 - val_loss: 1.6314 - val_acc: 0.7878\n",
      "Epoch 12/25\n",
      "8000/8000 [==============================] - 4325s 541ms/step - loss: 0.0126 - acc: 0.9960 - val_loss: 1.6459 - val_acc: 0.7950\n",
      "Epoch 13/25\n",
      "8000/8000 [==============================] - 4317s 540ms/step - loss: 0.0126 - acc: 0.9962 - val_loss: 1.6245 - val_acc: 0.7995\n",
      "Epoch 14/25\n",
      "8000/8000 [==============================] - 4411s 551ms/step - loss: 0.0120 - acc: 0.9964 - val_loss: 1.6632 - val_acc: 0.8060\n",
      "Epoch 15/25\n",
      "8000/8000 [==============================] - 5058s 632ms/step - loss: 0.0113 - acc: 0.9966 - val_loss: 1.7088 - val_acc: 0.8009\n",
      "Epoch 16/25\n",
      "8000/8000 [==============================] - 5078s 635ms/step - loss: 0.0103 - acc: 0.9967 - val_loss: 1.7971 - val_acc: 0.8009\n",
      "Epoch 17/25\n",
      "8000/8000 [==============================] - 4466s 558ms/step - loss: 0.0097 - acc: 0.9969 - val_loss: 1.7431 - val_acc: 0.7970\n",
      "Epoch 18/25\n",
      "8000/8000 [==============================] - 4904s 613ms/step - loss: 0.0093 - acc: 0.9972 - val_loss: 1.7968 - val_acc: 0.7984\n",
      "Epoch 19/25\n",
      "8000/8000 [==============================] - 4759s 595ms/step - loss: 0.0094 - acc: 0.9972 - val_loss: 1.9255 - val_acc: 0.7999\n",
      "Epoch 20/25\n",
      "8000/8000 [==============================] - 5383s 673ms/step - loss: 0.0086 - acc: 0.9973 - val_loss: 1.7458 - val_acc: 0.8059\n",
      "Epoch 21/25\n",
      "8000/8000 [==============================] - 4577s 572ms/step - loss: 0.0082 - acc: 0.9975 - val_loss: 1.8536 - val_acc: 0.8020\n",
      "Epoch 22/25\n",
      "8000/8000 [==============================] - 4331s 541ms/step - loss: 0.0083 - acc: 0.9976 - val_loss: 1.7304 - val_acc: 0.8079\n",
      "Epoch 23/25\n",
      "8000/8000 [==============================] - 4266s 533ms/step - loss: 0.0081 - acc: 0.9977 - val_loss: 1.8447 - val_acc: 0.7941\n",
      "Epoch 24/25\n",
      "8000/8000 [==============================] - 4335s 542ms/step - loss: 0.0073 - acc: 0.9978 - val_loss: 1.7552 - val_acc: 0.8050\n",
      "Epoch 25/25\n",
      "8000/8000 [==============================] - 3745s 468ms/step - loss: 0.0077 - acc: 0.9977 - val_loss: 1.7589 - val_acc: 0.8030\n"
     ]
    }
   ],
   "source": [
    "# Convolutional Neural Network\n",
    "\n",
    "# Installing Theano\n",
    "# pip install --upgrade --no-deps git+git://github.com/Theano/Theano.git\n",
    "\n",
    "# Installing Tensorflow\n",
    "# pip install tensorflow\n",
    "\n",
    "# Installing Keras\n",
    "# pip install --upgrade keras\n",
    "\n",
    "# Part 1 - Building the CNN\n",
    "\n",
    "# Importing the Keras libraries and packages\n",
    "from keras.models import Sequential\n",
    "from keras.layers import Conv2D\n",
    "from keras.layers import MaxPooling2D\n",
    "from keras.layers import Flatten\n",
    "from keras.layers import Dense\n",
    "\n",
    "# Initialising the CNN\n",
    "classifier = Sequential()\n",
    "\n",
    "# Step 1 - Convolution\n",
    "classifier.add(Conv2D(32, (3, 3), input_shape = (64, 64, 3), activation = 'relu'))\n",
    "\n",
    "# Step 2 - Pooling\n",
    "classifier.add(MaxPooling2D(pool_size = (2, 2)))\n",
    "\n",
    "# Adding a second convolutional layer\n",
    "classifier.add(Conv2D(32, (3, 3), activation = 'relu'))\n",
    "classifier.add(MaxPooling2D(pool_size = (2, 2)))\n",
    "\n",
    "# Step 3 - Flattening\n",
    "classifier.add(Flatten())\n",
    "\n",
    "# Step 4 - Full connection\n",
    "classifier.add(Dense(units = 128, activation = 'relu'))\n",
    "classifier.add(Dense(units = 1, activation = 'sigmoid'))\n",
    "\n",
    "# Compiling the CNN\n",
    "classifier.compile(optimizer = 'adam', loss = 'binary_crossentropy', metrics = ['accuracy'])\n",
    "\n",
    "# Part 2 - Fitting the CNN to the images\n",
    "\n",
    "from keras.preprocessing.image import ImageDataGenerator\n",
    "\n",
    "train_datagen = ImageDataGenerator(rescale = 1./255,\n",
    "                                   shear_range = 0.2,\n",
    "                                   zoom_range = 0.2,\n",
    "                                   horizontal_flip = True)\n",
    "\n",
    "test_datagen = ImageDataGenerator(rescale = 1./255)\n",
    "\n",
    "training_set = train_datagen.flow_from_directory('dataset/training_set',\n",
    "                                                 target_size = (64, 64),\n",
    "                                                 batch_size = 32,\n",
    "                                                 class_mode = 'binary')\n",
    "\n",
    "test_set = test_datagen.flow_from_directory('dataset/test_set',\n",
    "                                            target_size = (64, 64),\n",
    "                                            batch_size = 32,\n",
    "                                            class_mode = 'binary')\n",
    "\n",
    "classifier.fit_generator(training_set,\n",
    "                         steps_per_epoch = 8000,\n",
    "                         epochs = 25,\n",
    "                         validation_data = test_set,\n",
    "                         validation_steps = 2000)\n",
    "\n",
    "# Part 3 - Making new predictions\n",
    "\n",
    "import numpy as np\n",
    "from keras.preprocessing import image \n",
    "test_image = image.load_img('dataset/single_prediction/cat_or_dog_1.jpg', target_size = (64, 64))\n",
    "test_image = image.img_to_array(test_image)\n",
    "test_image = np.expand_dims(test_image, axis = 0)\n",
    "result = classifier.predict(test_image)\n",
    "training_set.class_indices\n",
    "if result[0][0] == 1:\n",
    "    prediction = 'dog'\n",
    "else:\n",
    "    prediction = 'cat'"
   ]
  },
  {
   "cell_type": "code",
   "execution_count": 1,
   "metadata": {},
   "outputs": [
    {
     "name": "stderr",
     "output_type": "stream",
     "text": [
      "Using TensorFlow backend.\n"
     ]
    },
    {
     "ename": "NameError",
     "evalue": "name 'classifier' is not defined",
     "output_type": "error",
     "traceback": [
      "\u001b[1;31m---------------------------------------------------------------------------\u001b[0m",
      "\u001b[1;31mNameError\u001b[0m                                 Traceback (most recent call last)",
      "\u001b[1;32m<ipython-input-1-4652f0b5366e>\u001b[0m in \u001b[0;36m<module>\u001b[1;34m()\u001b[0m\n\u001b[0;32m      4\u001b[0m \u001b[0mtest_image\u001b[0m \u001b[1;33m=\u001b[0m \u001b[0mimage\u001b[0m\u001b[1;33m.\u001b[0m\u001b[0mimg_to_array\u001b[0m\u001b[1;33m(\u001b[0m\u001b[0mtest_image\u001b[0m\u001b[1;33m)\u001b[0m\u001b[1;33m\u001b[0m\u001b[0m\n\u001b[0;32m      5\u001b[0m \u001b[0mtest_image\u001b[0m \u001b[1;33m=\u001b[0m \u001b[0mnp\u001b[0m\u001b[1;33m.\u001b[0m\u001b[0mexpand_dims\u001b[0m\u001b[1;33m(\u001b[0m\u001b[0mtest_image\u001b[0m\u001b[1;33m,\u001b[0m \u001b[0maxis\u001b[0m \u001b[1;33m=\u001b[0m \u001b[1;36m0\u001b[0m\u001b[1;33m)\u001b[0m\u001b[1;33m\u001b[0m\u001b[0m\n\u001b[1;32m----> 6\u001b[1;33m \u001b[0mresult\u001b[0m \u001b[1;33m=\u001b[0m \u001b[0mclassifier\u001b[0m\u001b[1;33m.\u001b[0m\u001b[0mpredict\u001b[0m\u001b[1;33m(\u001b[0m\u001b[0mtest_image\u001b[0m\u001b[1;33m)\u001b[0m\u001b[1;33m\u001b[0m\u001b[0m\n\u001b[0m\u001b[0;32m      7\u001b[0m \u001b[0mtraining_set\u001b[0m\u001b[1;33m.\u001b[0m\u001b[0mclass_indices\u001b[0m\u001b[1;33m\u001b[0m\u001b[0m\n\u001b[0;32m      8\u001b[0m \u001b[1;32mif\u001b[0m \u001b[0mresult\u001b[0m\u001b[1;33m[\u001b[0m\u001b[1;36m0\u001b[0m\u001b[1;33m]\u001b[0m\u001b[1;33m[\u001b[0m\u001b[1;36m0\u001b[0m\u001b[1;33m]\u001b[0m \u001b[1;33m==\u001b[0m \u001b[1;36m1\u001b[0m\u001b[1;33m:\u001b[0m\u001b[1;33m\u001b[0m\u001b[0m\n",
      "\u001b[1;31mNameError\u001b[0m: name 'classifier' is not defined"
     ]
    }
   ],
   "source": [
    "import numpy as np\n",
    "from keras.preprocessing import image \n",
    "test_image = image.load_img('dataset/single_prediction/cat_or_dog_10.jpg', target_size = (64, 64))\n",
    "test_image = image.img_to_array(test_image)\n",
    "test_image = np.expand_dims(test_image, axis = 0)\n",
    "result = classifier.predict(test_image)\n",
    "training_set.class_indices\n",
    "if result[0][0] == 1:\n",
    "    prediction = 'dog'\n",
    "else:\n",
    "    prediction = 'cat'\n",
    "\n",
    "print(prediction)"
   ]
  },
  {
   "cell_type": "code",
   "execution_count": null,
   "metadata": {},
   "outputs": [],
   "source": []
  }
 ],
 "metadata": {
  "kernelspec": {
   "display_name": "Python [conda env:py36]",
   "language": "python",
   "name": "conda-env-py36-py"
  },
  "language_info": {
   "codemirror_mode": {
    "name": "ipython",
    "version": 3
   },
   "file_extension": ".py",
   "mimetype": "text/x-python",
   "name": "python",
   "nbconvert_exporter": "python",
   "pygments_lexer": "ipython3",
   "version": "3.5.5"
  },
  "widgets": {
   "application/vnd.jupyter.widget-state+json": {
    "state": {},
    "version_major": 2,
    "version_minor": 0
   }
  }
 },
 "nbformat": 4,
 "nbformat_minor": 2
}
